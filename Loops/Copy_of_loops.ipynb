{
  "cells": [
    {
      "cell_type": "markdown",
      "id": "6eac56f9-f930-4d06-91f4-5b147caa7e0a",
      "metadata": {
        "id": "6eac56f9-f930-4d06-91f4-5b147caa7e0a"
      },
      "source": [
        "## Exercises\n",
        "\n",
        "### Exercises: Level 1\n",
        "\n",
        "1. Iterate 0 to 10 using for loop, do the same using while loop.\n",
        "2. Iterate 10 to 0 using for loop, do the same using while loop.\n",
        "3. Write a loop that makes seven calls to print(), so we get on the output the following triangle:\n",
        "\n",
        "   ```py\n",
        "     #\n",
        "     ##\n",
        "     ###\n",
        "     ####\n",
        "     #####\n",
        "     ######\n",
        "     #######\n",
        "   ```\n",
        "\n",
        "4. Use nested loops to create the following:\n",
        "\n",
        "   ```sh\n",
        "   # # # # # # # #\n",
        "   # # # # # # # #\n",
        "   # # # # # # # #\n",
        "   # # # # # # # #\n",
        "   # # # # # # # #\n",
        "   # # # # # # # #\n",
        "   # # # # # # # #\n",
        "   # # # # # # # #\n",
        "   ```\n",
        "\n",
        "5. Print the following pattern:\n",
        "\n",
        "   ```sh\n",
        "   0 x 0 = 0\n",
        "   1 x 1 = 1\n",
        "   2 x 2 = 4\n",
        "   3 x 3 = 9\n",
        "   4 x 4 = 16\n",
        "   5 x 5 = 25\n",
        "   6 x 6 = 36\n",
        "   7 x 7 = 49\n",
        "   8 x 8 = 64\n",
        "   9 x 9 = 81\n",
        "   10 x 10 = 100\n",
        "   ```\n",
        "\n",
        "6. Iterate through the list, ['Python', 'Numpy','Pandas','Django', 'Flask'] using a for loop and print out the items.\n",
        "7. Use for loop to iterate from 0 to 100 and print only even numbers\n",
        "8. Use for loop to iterate from 0 to 100 and print only odd numbers\n",
        "   \n",
        "### Exercises: Level 2\n",
        "    \n",
        "1.  Use for loop to iterate from 0 to 100 and print the sum of all numbers.\n",
        "    ```sh\n",
        "    The sum of all numbers is 5050.\n",
        "    ```\n",
        "\n",
        "2. Use for loop to iterate from 0 to 100 and print the sum of all evens and the sum of all odds.\n",
        "    ```sh\n",
        "    The sum of all evens is 2550. And the sum of all odds is 2500.\n",
        "    ```"
      ]
    },
    {
      "cell_type": "markdown",
      "source": [
        "#Exercise 1"
      ],
      "metadata": {
        "id": "Cxszn0VtdeqG"
      },
      "id": "Cxszn0VtdeqG"
    },
    {
      "cell_type": "code",
      "source": [
        "#Exercise 1.1\n",
        "\n",
        "for i in range (11):\n",
        "    print(i)"
      ],
      "metadata": {
        "colab": {
          "base_uri": "https://localhost:8080/"
        },
        "id": "76J_m0g3dhLZ",
        "outputId": "f7977a8b-dde9-46ce-d706-4db80a1010ac"
      },
      "id": "76J_m0g3dhLZ",
      "execution_count": 1,
      "outputs": [
        {
          "output_type": "stream",
          "name": "stdout",
          "text": [
            "0\n",
            "1\n",
            "2\n",
            "3\n",
            "4\n",
            "5\n",
            "6\n",
            "7\n",
            "8\n",
            "9\n",
            "10\n"
          ]
        }
      ]
    },
    {
      "cell_type": "code",
      "source": [
        "#Exercise 1.2\n",
        "\n",
        "for i in range (10, -1, -1):\n",
        "    print(i)"
      ],
      "metadata": {
        "colab": {
          "base_uri": "https://localhost:8080/"
        },
        "id": "7N_ZYDrvd2hr",
        "outputId": "979899d9-e5a8-4dee-b75c-e45f99595d72"
      },
      "id": "7N_ZYDrvd2hr",
      "execution_count": 2,
      "outputs": [
        {
          "output_type": "stream",
          "name": "stdout",
          "text": [
            "10\n",
            "9\n",
            "8\n",
            "7\n",
            "6\n",
            "5\n",
            "4\n",
            "3\n",
            "2\n",
            "1\n",
            "0\n"
          ]
        }
      ]
    },
    {
      "cell_type": "code",
      "source": [
        "#Exercise 1.3\n",
        "\n",
        "for i in range (1, 8):\n",
        "    print('#' * i)"
      ],
      "metadata": {
        "colab": {
          "base_uri": "https://localhost:8080/"
        },
        "id": "wUIbY_KBew3a",
        "outputId": "b1c43bbf-42e1-4bbb-a7ee-62041435f6a8"
      },
      "id": "wUIbY_KBew3a",
      "execution_count": 3,
      "outputs": [
        {
          "output_type": "stream",
          "name": "stdout",
          "text": [
            "#\n",
            "##\n",
            "###\n",
            "####\n",
            "#####\n",
            "######\n",
            "#######\n"
          ]
        }
      ]
    },
    {
      "cell_type": "code",
      "source": [
        "#Exercise 1.4\n",
        "\n",
        "for i in range (1, 9):\n",
        "    for j in range (1, 9):\n",
        "        print('#', end = ' ')\n",
        "    print()"
      ],
      "metadata": {
        "colab": {
          "base_uri": "https://localhost:8080/"
        },
        "id": "KqdzEZS3e51c",
        "outputId": "fdde948d-3523-4768-ee1d-585e45a02037"
      },
      "id": "KqdzEZS3e51c",
      "execution_count": 6,
      "outputs": [
        {
          "output_type": "stream",
          "name": "stdout",
          "text": [
            "# # # # # # # # \n",
            "# # # # # # # # \n",
            "# # # # # # # # \n",
            "# # # # # # # # \n",
            "# # # # # # # # \n",
            "# # # # # # # # \n",
            "# # # # # # # # \n",
            "# # # # # # # # \n"
          ]
        }
      ]
    },
    {
      "cell_type": "code",
      "source": [
        "#Exercise 1.5\n",
        "\n",
        "for i in range (11):\n",
        "    print(f'{i} x {i} = {i*i}')"
      ],
      "metadata": {
        "colab": {
          "base_uri": "https://localhost:8080/"
        },
        "id": "v0rQtD-ffe_F",
        "outputId": "b161aed8-7919-4a0d-f38f-9058eda596db"
      },
      "id": "v0rQtD-ffe_F",
      "execution_count": 7,
      "outputs": [
        {
          "output_type": "stream",
          "name": "stdout",
          "text": [
            "0 x 0 = 0\n",
            "1 x 1 = 1\n",
            "2 x 2 = 4\n",
            "3 x 3 = 9\n",
            "4 x 4 = 16\n",
            "5 x 5 = 25\n",
            "6 x 6 = 36\n",
            "7 x 7 = 49\n",
            "8 x 8 = 64\n",
            "9 x 9 = 81\n",
            "10 x 10 = 100\n"
          ]
        }
      ]
    },
    {
      "cell_type": "code",
      "source": [
        "#Exercise 1.6\n",
        "\n",
        "list = ['Python', 'Numpy','Pandas','Django', 'Flask']\n",
        "\n",
        "for i in list:\n",
        "    print(i)"
      ],
      "metadata": {
        "colab": {
          "base_uri": "https://localhost:8080/"
        },
        "id": "TW_vHDCffsY3",
        "outputId": "e9c3478d-7d88-45c1-bffb-b2cd43b0b7b3"
      },
      "id": "TW_vHDCffsY3",
      "execution_count": 8,
      "outputs": [
        {
          "output_type": "stream",
          "name": "stdout",
          "text": [
            "Python\n",
            "Numpy\n",
            "Pandas\n",
            "Django\n",
            "Flask\n"
          ]
        }
      ]
    },
    {
      "cell_type": "code",
      "source": [
        "#Exercise 1.7\n",
        "\n",
        "for i in range(101):\n",
        "    if i % 2 ==0:\n",
        "        print(i)"
      ],
      "metadata": {
        "colab": {
          "base_uri": "https://localhost:8080/"
        },
        "id": "6ffPT4mlf69P",
        "outputId": "7fd060b9-6b13-460f-a6bf-c36bbc9f0c53"
      },
      "id": "6ffPT4mlf69P",
      "execution_count": 9,
      "outputs": [
        {
          "output_type": "stream",
          "name": "stdout",
          "text": [
            "0\n",
            "2\n",
            "4\n",
            "6\n",
            "8\n",
            "10\n",
            "12\n",
            "14\n",
            "16\n",
            "18\n",
            "20\n",
            "22\n",
            "24\n",
            "26\n",
            "28\n",
            "30\n",
            "32\n",
            "34\n",
            "36\n",
            "38\n",
            "40\n",
            "42\n",
            "44\n",
            "46\n",
            "48\n",
            "50\n",
            "52\n",
            "54\n",
            "56\n",
            "58\n",
            "60\n",
            "62\n",
            "64\n",
            "66\n",
            "68\n",
            "70\n",
            "72\n",
            "74\n",
            "76\n",
            "78\n",
            "80\n",
            "82\n",
            "84\n",
            "86\n",
            "88\n",
            "90\n",
            "92\n",
            "94\n",
            "96\n",
            "98\n",
            "100\n"
          ]
        }
      ]
    },
    {
      "cell_type": "code",
      "source": [
        "#Exercise 1.8\n",
        "\n",
        "for i in range(101):\n",
        "    if i % 2 != 0:\n",
        "        print(i)"
      ],
      "metadata": {
        "colab": {
          "base_uri": "https://localhost:8080/"
        },
        "id": "EM1v1S9PgcSu",
        "outputId": "1965e916-d5e8-41ed-889f-d63cda400c51"
      },
      "id": "EM1v1S9PgcSu",
      "execution_count": 10,
      "outputs": [
        {
          "output_type": "stream",
          "name": "stdout",
          "text": [
            "1\n",
            "3\n",
            "5\n",
            "7\n",
            "9\n",
            "11\n",
            "13\n",
            "15\n",
            "17\n",
            "19\n",
            "21\n",
            "23\n",
            "25\n",
            "27\n",
            "29\n",
            "31\n",
            "33\n",
            "35\n",
            "37\n",
            "39\n",
            "41\n",
            "43\n",
            "45\n",
            "47\n",
            "49\n",
            "51\n",
            "53\n",
            "55\n",
            "57\n",
            "59\n",
            "61\n",
            "63\n",
            "65\n",
            "67\n",
            "69\n",
            "71\n",
            "73\n",
            "75\n",
            "77\n",
            "79\n",
            "81\n",
            "83\n",
            "85\n",
            "87\n",
            "89\n",
            "91\n",
            "93\n",
            "95\n",
            "97\n",
            "99\n"
          ]
        }
      ]
    },
    {
      "cell_type": "markdown",
      "source": [
        "#Exercise: Level 2"
      ],
      "metadata": {
        "id": "BHcXZVK8grfV"
      },
      "id": "BHcXZVK8grfV"
    },
    {
      "cell_type": "code",
      "source": [
        "#Exercise 2.1\n",
        "\n",
        "sum = 0\n",
        "for i in range(101):\n",
        "    sum += i\n",
        "\n",
        "print(f'sum of all numbers is {sum}')"
      ],
      "metadata": {
        "colab": {
          "base_uri": "https://localhost:8080/"
        },
        "id": "JsIquQfPgt8x",
        "outputId": "7ed1ffab-5d3e-42b8-b97a-dab917dec0af"
      },
      "id": "JsIquQfPgt8x",
      "execution_count": 11,
      "outputs": [
        {
          "output_type": "stream",
          "name": "stdout",
          "text": [
            "sum of all numbers is 5050\n"
          ]
        }
      ]
    },
    {
      "cell_type": "code",
      "source": [
        "#Exercise 2.2\n",
        "\n",
        "sum_even = 0\n",
        "sum_odd = 0\n",
        "for i in range(101):\n",
        "    if i % 2 == 0:\n",
        "        sum_even += i\n",
        "    else:\n",
        "        sum_odd += i\n",
        "\n",
        "print(f'The sum of all evens is {sum_even}. And the sum of all odds is {sum_odd}')"
      ],
      "metadata": {
        "colab": {
          "base_uri": "https://localhost:8080/"
        },
        "id": "FafwxjoAg8QK",
        "outputId": "bc64f2c4-8c88-49d4-fdac-acc1de7835ee"
      },
      "id": "FafwxjoAg8QK",
      "execution_count": 12,
      "outputs": [
        {
          "output_type": "stream",
          "name": "stdout",
          "text": [
            "The sum of all evens is 2550. And the sum of all odds is 2500\n"
          ]
        }
      ]
    }
  ],
  "metadata": {
    "kernelspec": {
      "display_name": "Python 3 (ipykernel)",
      "language": "python",
      "name": "python3"
    },
    "language_info": {
      "codemirror_mode": {
        "name": "ipython",
        "version": 3
      },
      "file_extension": ".py",
      "mimetype": "text/x-python",
      "name": "python",
      "nbconvert_exporter": "python",
      "pygments_lexer": "ipython3",
      "version": "3.12.4"
    },
    "colab": {
      "provenance": []
    }
  },
  "nbformat": 4,
  "nbformat_minor": 5
}