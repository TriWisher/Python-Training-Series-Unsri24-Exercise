{
  "cells": [
    {
      "cell_type": "markdown",
      "id": "692be7e0-e119-4dc1-be64-8f4ad71d46b7",
      "metadata": {
        "id": "692be7e0-e119-4dc1-be64-8f4ad71d46b7"
      },
      "source": [
        "## Excercises\n",
        "\n",
        "### Exercises: Level 1\n",
        "\n",
        "1. Get user input using input(“Enter your age: ”). If user is 18 or older, give feedback: You are old enough to drive. If below 18 give feedback to wait for the missing amount of years. Output:\n",
        "    ```sh\n",
        "    Enter your age: 30\n",
        "    You are old enough to learn to drive.\n",
        "    Output:\n",
        "    Enter your age: 15\n",
        "    You need 3 more years to learn to drive.\n",
        "    ```\n",
        "2. Compare the values of my_age and your_age using if … else. Who is older (me or you)? Use input(“Enter your age: ”) to get the age as input. You can use a nested condition to print 'year' for 1 year difference in age, 'years' for bigger differences, and a custom text if my_age = your_age. Output:\n",
        "    ```sh\n",
        "    Enter your age: 30\n",
        "    You are 5 years older than me.\n",
        "    ```\n",
        "\n",
        "\n",
        "3. Get two numbers from the user using input prompt. If a is greater than b return a is greater than b, if a is less b return a is smaller than b, else a is equal to b. Output:\n",
        "    ```sh\n",
        "    Enter number one: 4\n",
        "    Enter number two: 3\n",
        "    4 is greater than 3\n",
        "    ```\n",
        "\n",
        "### Exercises: Level 2\n",
        "\n",
        "1. Write a code which gives grade to students according to theirs scores:\n",
        "    ```sh\n",
        "    80-100, A\n",
        "    70-89, B\n",
        "    60-69, C\n",
        "    50-59, D\n",
        "    0-49, F\n",
        "    ```\n",
        "        \n",
        "2. Check if the season is Autumn, Winter, Spring or Summer. If the user input is:\n",
        "    September, October or November, the season is Autumn.\n",
        "    December, January or February, the season is Winter.\n",
        "    March, April or May, the season is Spring\n",
        "    June, July or August, the season is Summer\n",
        "\n",
        "3. The following list contains some fruits:\n",
        "    ```sh\n",
        "    fruits = ['banana', 'orange', 'mango', 'lemon']\n",
        "    ```\n",
        "   If a fruit doesn't exist in the list add the fruit to the list and print the modified list. If the fruit exists print('That fruit already exist in the list')\n",
        "\n",
        "### Exercises: Level 3\n",
        "\n",
        "1. Here we have a person dictionary. Feel free to modify it!\n",
        "   \n",
        "    ```py\n",
        "    person={\n",
        "        'first_name': 'Aurora',\n",
        "        'last_name': 'Luna',\n",
        "        'age': 6,\n",
        "        'country': 'Indonesia',\n",
        "        'skills': ['JavaScript', 'React', 'Node', 'MongoDB', 'Python'],\n",
        "        'address': {\n",
        "            'street': 'Jl. Jalan',\n",
        "            'zipcode': '123456'\n",
        "        }\n",
        "    }\n",
        "    ```\n",
        "\n",
        "    * Check if the person dictionary has skills key, if so print out the middle skill in the skills list.\n",
        "    * Check if the person dictionary has skills key, if so check if the person has 'Python' skill and print out the result.\n",
        "    * If a person skills has only JavaScript and React, print('He is a front end developer'), if the person skills has Node, Python, MongoDB, print('He is a backend developer'), if the person skills has React, Node and MongoDB, Print('He is a fullstack developer'), else print('unknown title') - for more accurate results more conditions can be nested!\n",
        "    * If the person lives in Indonesia, print the information in the following format:\n",
        "\n",
        "        ```py\n",
        "        Aurora Luna lives in Indonesia.\n",
        "        ```"
      ]
    },
    {
      "cell_type": "markdown",
      "source": [
        "#Exercises: Level 1"
      ],
      "metadata": {
        "id": "KeFnOmL_DaoZ"
      },
      "id": "KeFnOmL_DaoZ"
    },
    {
      "cell_type": "code",
      "source": [
        "#Exercise 1.1\n",
        "\n",
        "def check_drive_age(age):\n",
        "    threshold = 18\n",
        "    if int(age) >= threshold:\n",
        "        print('You are old enough to drive')\n",
        "    elif int(age) < threshold:\n",
        "        print(f'You need {threshold - int(age)} more years to learn to drive')\n",
        "    else:\n",
        "        print('Invalid input')\n",
        "\n",
        "age = input('Enter your Age: ')\n",
        "check_drive_age(age)"
      ],
      "metadata": {
        "colab": {
          "base_uri": "https://localhost:8080/"
        },
        "id": "5BkFr4mFDWA7",
        "outputId": "36f4e72b-cfa5-4a3b-f63d-108621f3faaa"
      },
      "id": "5BkFr4mFDWA7",
      "execution_count": 12,
      "outputs": [
        {
          "output_type": "stream",
          "name": "stdout",
          "text": [
            "Enter your Age: 15\n",
            "You need 3 more years to learn to drive\n"
          ]
        }
      ]
    },
    {
      "cell_type": "code",
      "source": [
        "#Exercise 1.2\n",
        "\n",
        "def compare_age(age):\n",
        "    myAge = 20\n",
        "    if int(age) > myAge:\n",
        "        print(f'You are {int(age) - myAge} older than me')\n",
        "    elif int(age) == myAge:\n",
        "        print('We are the same age')\n",
        "    elif int(age) < myAge:\n",
        "        print(f'I am {myAge - int(age)} years older than you')\n",
        "    else:\n",
        "        print('Invalid input')\n",
        "\n",
        "\n",
        "age = input('Enter your age: ')\n",
        "compare_age(age)"
      ],
      "metadata": {
        "colab": {
          "base_uri": "https://localhost:8080/"
        },
        "id": "S8Jsv_UYGYlg",
        "outputId": "7ae1c5ed-1250-46a3-85cd-1020e45ea89b"
      },
      "id": "S8Jsv_UYGYlg",
      "execution_count": 10,
      "outputs": [
        {
          "output_type": "stream",
          "name": "stdout",
          "text": [
            "Enter your age: 15\n",
            "I am 5 years older than you\n"
          ]
        }
      ]
    },
    {
      "cell_type": "code",
      "source": [
        "#Exercise 1.3\n",
        "\n",
        "def compare_num(a, b):\n",
        "    if a > b:\n",
        "        print(f'{a} is greater than {b}')\n",
        "    elif a == b:\n",
        "        print(f'{a} is equal to {b}')\n",
        "    elif a < b:\n",
        "        print(f'{a} is smaller than {b}')\n",
        "    else:\n",
        "        print('Invalid input')\n",
        "\n",
        "try:\n",
        "    a = float(input('Enter number one: '))\n",
        "    b = float(input('Enter number two: '))\n",
        "    compare_num(a, b)\n",
        "\n",
        "except ValueError:\n",
        "    print('Invalid input')"
      ],
      "metadata": {
        "colab": {
          "base_uri": "https://localhost:8080/"
        },
        "id": "KHwPbtlPH9vf",
        "outputId": "780fb716-5190-4bef-ce65-ded7e7d1cc1b"
      },
      "id": "KHwPbtlPH9vf",
      "execution_count": 29,
      "outputs": [
        {
          "output_type": "stream",
          "name": "stdout",
          "text": [
            "Enter number one: 2.3\n",
            "Enter number two: 11.5\n",
            "2.3 is smaller than 11.5\n"
          ]
        }
      ]
    },
    {
      "cell_type": "markdown",
      "source": [
        "#Exercise: Level 2"
      ],
      "metadata": {
        "id": "fbPX5KY7Ij4U"
      },
      "id": "fbPX5KY7Ij4U"
    },
    {
      "cell_type": "code",
      "source": [
        "#Exercise 2.1\n",
        "\n",
        "def score_to_grade(score):\n",
        "\n",
        "    if int(score) >= 80 and int(score) <=100:\n",
        "        print('A')\n",
        "    elif int(score) >= 70 and int(score) <= 79:\n",
        "        print('B')\n",
        "    elif int(score) >= 60 and int(score) <= 69:\n",
        "        print('C')\n",
        "    elif int(score) >= 50 and int(score) <= 59:\n",
        "        print('D')\n",
        "    elif int(score) >= 0 and int(score) <= 49:\n",
        "        print('F')\n",
        "    else:\n",
        "        print('Out of range')\n",
        "\n",
        "try:\n",
        "    score = int(input('Enter your score: '))\n",
        "    score_to_grade(score)\n",
        "\n",
        "except ValueError:\n",
        "    print('Invalid input')"
      ],
      "metadata": {
        "colab": {
          "base_uri": "https://localhost:8080/"
        },
        "id": "A5QLTidtIh1A",
        "outputId": "381dde9a-617e-4ba6-9721-f96ce0d7f788"
      },
      "id": "A5QLTidtIh1A",
      "execution_count": 42,
      "outputs": [
        {
          "output_type": "stream",
          "name": "stdout",
          "text": [
            "Enter your score: 89\n",
            "A\n"
          ]
        }
      ]
    },
    {
      "cell_type": "code",
      "source": [
        "#Exercise 2.2\n",
        "\n",
        "def check_season(month):\n",
        "    month = month.capitalize()\n",
        "    seasons = {\n",
        "        \"Autumn\": ['September', 'October', 'November'],\n",
        "        \"Winter\": ['December', 'January', 'February'],\n",
        "        \"Spring\": ['March', 'April', 'May'],\n",
        "        \"Summer\": ['June', 'July', 'August']\n",
        "    }\n",
        "\n",
        "    for season, months in seasons.items():\n",
        "        if month in months:\n",
        "            print(season)\n",
        "            break\n",
        "    else:\n",
        "        print('... You sure that is a month name ?')\n",
        "\n",
        "month = input('Enter the month: ')\n",
        "check_season(month)"
      ],
      "metadata": {
        "colab": {
          "base_uri": "https://localhost:8080/"
        },
        "id": "FojqzRq7Ku5P",
        "outputId": "93a4fa21-2659-4703-c427-3f3dc7095ed3"
      },
      "id": "FojqzRq7Ku5P",
      "execution_count": 38,
      "outputs": [
        {
          "output_type": "stream",
          "name": "stdout",
          "text": [
            "Enter the month: jUlY\n",
            "Summer\n"
          ]
        }
      ]
    },
    {
      "cell_type": "code",
      "source": [
        "#Exercise 2.3\n",
        "\n",
        "def check_fruit(fruit):\n",
        "    fruits = ['banana', 'orange', 'mango', 'lemon']\n",
        "    if fruit in fruits:\n",
        "        print('That fruit already exist in the list')\n",
        "    else:\n",
        "        fruits.append(fruit.lower())\n",
        "        print(fruits)\n",
        "\n",
        "\n",
        "fruit = input('Enter a fruit: ')\n",
        "check_fruit(fruit)"
      ],
      "metadata": {
        "colab": {
          "base_uri": "https://localhost:8080/"
        },
        "id": "5xrYeInBN6Dp",
        "outputId": "095ac676-989b-445e-9858-f00d4cdda0f6"
      },
      "id": "5xrYeInBN6Dp",
      "execution_count": 35,
      "outputs": [
        {
          "output_type": "stream",
          "name": "stdout",
          "text": [
            "Enter a fruit: mango\n",
            "That fruit already exist in the list\n"
          ]
        }
      ]
    },
    {
      "cell_type": "markdown",
      "source": [
        "#Exercise: Level 3"
      ],
      "metadata": {
        "id": "74msIf9ESLFW"
      },
      "id": "74msIf9ESLFW"
    },
    {
      "cell_type": "code",
      "source": [
        "person = {\n",
        "    'first_name': 'Jack',\n",
        "    'last_name': 'L. Cortez',\n",
        "    'age': 28,\n",
        "    'country': 'Indonesia',\n",
        "    'skills': ['Python', 'MongoDB', 'Node'],\n",
        "    'address': {\n",
        "        'street': 'Jl. Street',\n",
        "        'zipcode': '654321'\n",
        "    }\n",
        "}\n",
        "\n",
        "def check_skills(person):\n",
        "    if 'skills' in person:\n",
        "        skills = person['skills']\n",
        "        if skills:\n",
        "            middle_index = len(skills) // 2\n",
        "            print('Middle skill:', skills[middle_index])\n",
        "\n",
        "def check_python_skill(person):\n",
        "    if 'skills' in person:\n",
        "        if 'Python' in person['skills']:\n",
        "            print('This Person has Python skill.')\n",
        "\n",
        "def determine_role(person):\n",
        "    skills_set = set(person.get('skills', []))\n",
        "\n",
        "    if {'JavaScript', 'React'} <= skills_set:\n",
        "        print('He is a front end developer')\n",
        "    elif {'Node', 'Python', 'MongoDB'} <= skills_set:\n",
        "        print('He is a backend developer')\n",
        "    elif {'React', 'Node', 'MongoDB'} <= skills_set:\n",
        "        print('He is a fullstack developer')\n",
        "    else:\n",
        "        print('unknown title')\n",
        "\n",
        "def print_indonesia_info(person):\n",
        "    if person.get('country') == 'Indonesia':\n",
        "        print(f\"{person['first_name']} {person['last_name']} lives in Indonesia\")\n",
        "\n",
        "check_skills(person)\n",
        "check_python_skill(person)\n",
        "determine_role(person)\n",
        "print_indonesia_info(person)"
      ],
      "metadata": {
        "colab": {
          "base_uri": "https://localhost:8080/"
        },
        "id": "einqTGivSJU5",
        "outputId": "97cdcc4c-ba33-40ff-edf9-20f95fd5f2af"
      },
      "id": "einqTGivSJU5",
      "execution_count": 41,
      "outputs": [
        {
          "output_type": "stream",
          "name": "stdout",
          "text": [
            "Middle skill: MongoDB\n",
            "This Person has Python skill.\n",
            "He is a backend developer\n",
            "Jack L. Cortez lives in Indonesia\n"
          ]
        }
      ]
    }
  ],
  "metadata": {
    "kernelspec": {
      "display_name": "Python 3 (ipykernel)",
      "language": "python",
      "name": "python3"
    },
    "language_info": {
      "codemirror_mode": {
        "name": "ipython",
        "version": 3
      },
      "file_extension": ".py",
      "mimetype": "text/x-python",
      "name": "python",
      "nbconvert_exporter": "python",
      "pygments_lexer": "ipython3",
      "version": "3.12.4"
    },
    "colab": {
      "provenance": []
    }
  },
  "nbformat": 4,
  "nbformat_minor": 5
}